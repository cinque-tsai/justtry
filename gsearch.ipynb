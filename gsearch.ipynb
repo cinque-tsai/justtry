{
 "cells": [
  {
   "cell_type": "code",
   "execution_count": 1,
   "id": "96987f06",
   "metadata": {},
   "outputs": [
    {
     "name": "stderr",
     "output_type": "stream",
     "text": [
      "C:\\Users\\user\\AppData\\Local\\Temp/ipykernel_7924/344300514.py:2: DeprecationWarning: executable_path has been deprecated, please pass in a Service object\n",
      "  driver = webdriver.Chrome(r\"D:\\User_Data\\Desktop\\chromedriver_win32\\chromedriver.exe\")\n"
     ]
    }
   ],
   "source": [
    "from selenium import webdriver\n",
    "driver = webdriver.Chrome(r\"D:\\User_Data\\Desktop\\chromedriver_win32\\chromedriver.exe\")\n",
    "driver.get(\"http://www.google.com\") # 更改網址以前往不同網頁\n"
   ]
  },
  {
   "cell_type": "code",
   "execution_count": 2,
   "id": "43a66a14",
   "metadata": {},
   "outputs": [
    {
     "name": "stderr",
     "output_type": "stream",
     "text": [
      "C:\\Users\\user\\AppData\\Local\\Temp/ipykernel_7924/760846258.py:1: DeprecationWarning: find_element_by_class_name is deprecated. Please use find_element(by=By.CLASS_NAME, value=name) instead\n",
      "  element = driver.find_element_by_class_name(\"gLFyf.gsfi\")# 傳入字串\n"
     ]
    }
   ],
   "source": [
    "element = driver.find_element_by_class_name(\"gLFyf.gsfi\")# 傳入字串\n",
    "element.send_keys(\"瑞光\")"
   ]
  },
  {
   "cell_type": "code",
   "execution_count": 3,
   "id": "fa24a5c2",
   "metadata": {},
   "outputs": [],
   "source": [
    "element.clear()\n",
    "element.send_keys(\"大立光\")"
   ]
  },
  {
   "cell_type": "code",
   "execution_count": 4,
   "id": "c86e15c0",
   "metadata": {},
   "outputs": [],
   "source": [
    "from selenium.webdriver.common.by import By \n",
    "#button = driver.find_element_by_class_name(\"gNO89b\")\n",
    "button = driver.find_element(By.CLASS_NAME,\"gNO89b\")\n",
    "button.click()"
   ]
  },
  {
   "cell_type": "code",
   "execution_count": 6,
   "id": "082b3e9b",
   "metadata": {},
   "outputs": [],
   "source": [
    "#button = driver.find_element(By.LINK_TEXT,\"新聞\")\n",
    "# //*[@id=\"hdtb-msb\"]/div[1]/div/div[2]/a\n",
    "button = driver.find_element(By.XPATH,'//*[@id=\"hdtb-msb\"]/div[1]/div/div[2]/a')\n",
    "# \n",
    "button.click()"
   ]
  },
  {
   "cell_type": "code",
   "execution_count": 31,
   "id": "342a66b1",
   "metadata": {},
   "outputs": [],
   "source": [
    "driver.back()"
   ]
  },
  {
   "cell_type": "code",
   "execution_count": 32,
   "id": "40e64f2b",
   "metadata": {
    "scrolled": true
   },
   "outputs": [],
   "source": [
    "driver.forward()"
   ]
  },
  {
   "cell_type": "code",
   "execution_count": 5,
   "id": "51bdef2f",
   "metadata": {
    "scrolled": true
   },
   "outputs": [
    {
     "data": {
      "text/plain": [
       "<selenium.webdriver.remote.webelement.WebElement (session=\"f86b1366f0d449914134925ea2ef7905\", element=\"bd88fc93-95ae-4f0a-924c-41c5b951322c\")>"
      ]
     },
     "execution_count": 5,
     "metadata": {},
     "output_type": "execute_result"
    }
   ],
   "source": [
    "#driver.find_element(By.CLASS_NAME, \"WlydOe\")"
   ]
  },
  {
   "cell_type": "code",
   "execution_count": 10,
   "id": "5adbe07f",
   "metadata": {
    "scrolled": true
   },
   "outputs": [],
   "source": [
    "from bs4 import BeautifulSoup\n",
    "soup = BeautifulSoup(driver.page_source, 'html.parser')"
   ]
  },
  {
   "cell_type": "code",
   "execution_count": 41,
   "id": "8bc1fa2f",
   "metadata": {},
   "outputs": [],
   "source": [
    "liz = list()"
   ]
  },
  {
   "cell_type": "code",
   "execution_count": 50,
   "id": "505779f7",
   "metadata": {
    "scrolled": true
   },
   "outputs": [
    {
     "name": "stdout",
     "output_type": "stream",
     "text": [
      "https://news.cnyes.com/news/id/4846709\n",
      "https://tw.stock.yahoo.com/news/%E5%A4%A7%E7%AB%8B%E5%85%893%E6%9C%88%E7%87%9F%E6%94%B6%E6%9C%88%E5%A2%9E%E9%80%BE%E5%9B%9B%E6%88%90-%E6%83%9F%E5%AE%A2%E6%88%B6%E9%9C%80%E6%B1%82%E4%BB%8D%E7%96%B2%E5%BC%B1-%E4%BC%B04%E6%9C%88%E8%BC%833%E6%9C%88%E5%B7%AE-234539129.html\n",
      "https://www.chinatimes.com/newspapers/20220406000092-260202\n",
      "https://udn.com/news/story/7240/6218903?from=udn-ch1_breaknews-1-cate6-news\n",
      "https://tw.stock.yahoo.com/news/%E5%85%AC%E5%91%8A-%E5%A4%A7%E7%AB%8B%E5%85%89%E5%8F%AC%E9%96%8B%E6%B3%95%E4%BA%BA%E8%AA%AA%E6%98%8E%E6%9C%83%E4%BA%8B%E5%AE%9C-071530099.html\n",
      "https://finance.ettoday.net/news/2223163\n",
      "https://wantrich.chinatimes.com/news/20220406900300-420101\n",
      "https://finance.ettoday.net/news/2223144\n",
      "https://www.chinatimes.com/realtimenews/20220405001293-260410\n",
      "https://ec.ltn.com.tw/article/breakingnews/3882820\n",
      "https://tw.news.yahoo.com/%E5%A4%A7%E7%AB%8B%E5%85%893%E6%9C%88%E7%87%9F%E6%94%B6%E6%9C%88%E5%A2%9E43-4%E6%9C%88%E4%BC%B0%E4%BD%8E%E6%96%BC3%E6%9C%88-021821509.html\n",
      "https://udn.com/news/story/7240/6217162\n"
     ]
    }
   ],
   "source": [
    "for a in soup.find_all(\"a\",{\"class\":\"WlydOe\"}):\n",
    "    b = a.get(\"href\")\n",
    "    print(b)\n",
    "    liz.append(b)"
   ]
  },
  {
   "cell_type": "code",
   "execution_count": 51,
   "id": "8d5db2f1",
   "metadata": {},
   "outputs": [
    {
     "data": {
      "text/plain": [
       "['https://news.cnyes.com/news/id/4846709',\n",
       " 'https://tw.stock.yahoo.com/news/%E5%A4%A7%E7%AB%8B%E5%85%893%E6%9C%88%E7%87%9F%E6%94%B6%E6%9C%88%E5%A2%9E%E9%80%BE%E5%9B%9B%E6%88%90-%E6%83%9F%E5%AE%A2%E6%88%B6%E9%9C%80%E6%B1%82%E4%BB%8D%E7%96%B2%E5%BC%B1-%E4%BC%B04%E6%9C%88%E8%BC%833%E6%9C%88%E5%B7%AE-234539129.html',\n",
       " 'https://www.chinatimes.com/newspapers/20220406000092-260202',\n",
       " 'https://udn.com/news/story/7240/6218903?from=udn-ch1_breaknews-1-cate6-news',\n",
       " 'https://tw.stock.yahoo.com/news/%E5%85%AC%E5%91%8A-%E5%A4%A7%E7%AB%8B%E5%85%89%E5%8F%AC%E9%96%8B%E6%B3%95%E4%BA%BA%E8%AA%AA%E6%98%8E%E6%9C%83%E4%BA%8B%E5%AE%9C-071530099.html',\n",
       " 'https://finance.ettoday.net/news/2223163',\n",
       " 'https://wantrich.chinatimes.com/news/20220406900300-420101',\n",
       " 'https://finance.ettoday.net/news/2223144',\n",
       " 'https://www.chinatimes.com/realtimenews/20220405001293-260410',\n",
       " 'https://ec.ltn.com.tw/article/breakingnews/3882820',\n",
       " 'https://tw.news.yahoo.com/%E5%A4%A7%E7%AB%8B%E5%85%893%E6%9C%88%E7%87%9F%E6%94%B6%E6%9C%88%E5%A2%9E43-4%E6%9C%88%E4%BC%B0%E4%BD%8E%E6%96%BC3%E6%9C%88-021821509.html',\n",
       " 'https://udn.com/news/story/7240/6217162',\n",
       " 'https://news.cnyes.com/news/id/4846709',\n",
       " 'https://tw.stock.yahoo.com/news/%E5%A4%A7%E7%AB%8B%E5%85%893%E6%9C%88%E7%87%9F%E6%94%B6%E6%9C%88%E5%A2%9E%E9%80%BE%E5%9B%9B%E6%88%90-%E6%83%9F%E5%AE%A2%E6%88%B6%E9%9C%80%E6%B1%82%E4%BB%8D%E7%96%B2%E5%BC%B1-%E4%BC%B04%E6%9C%88%E8%BC%833%E6%9C%88%E5%B7%AE-234539129.html',\n",
       " 'https://www.chinatimes.com/newspapers/20220406000092-260202',\n",
       " 'https://udn.com/news/story/7240/6218903?from=udn-ch1_breaknews-1-cate6-news',\n",
       " 'https://tw.stock.yahoo.com/news/%E5%85%AC%E5%91%8A-%E5%A4%A7%E7%AB%8B%E5%85%89%E5%8F%AC%E9%96%8B%E6%B3%95%E4%BA%BA%E8%AA%AA%E6%98%8E%E6%9C%83%E4%BA%8B%E5%AE%9C-071530099.html',\n",
       " 'https://finance.ettoday.net/news/2223163',\n",
       " 'https://wantrich.chinatimes.com/news/20220406900300-420101',\n",
       " 'https://finance.ettoday.net/news/2223144',\n",
       " 'https://www.chinatimes.com/realtimenews/20220405001293-260410',\n",
       " 'https://ec.ltn.com.tw/article/breakingnews/3882820',\n",
       " 'https://tw.news.yahoo.com/%E5%A4%A7%E7%AB%8B%E5%85%893%E6%9C%88%E7%87%9F%E6%94%B6%E6%9C%88%E5%A2%9E43-4%E6%9C%88%E4%BC%B0%E4%BD%8E%E6%96%BC3%E6%9C%88-021821509.html',\n",
       " 'https://udn.com/news/story/7240/6217162']"
      ]
     },
     "execution_count": 51,
     "metadata": {},
     "output_type": "execute_result"
    }
   ],
   "source": [
    "liz"
   ]
  },
  {
   "cell_type": "code",
   "execution_count": 49,
   "id": "55833891",
   "metadata": {},
   "outputs": [],
   "source": [
    "button = driver.find_element(By.XPATH,'//*[@id=\"xjs\"]/table/tbody/tr/td[3]/a')\n",
    "# \n",
    "button.click()"
   ]
  },
  {
   "cell_type": "code",
   "execution_count": 52,
   "id": "6d28b39b",
   "metadata": {},
   "outputs": [
    {
     "data": {
      "text/plain": [
       "24"
      ]
     },
     "execution_count": 52,
     "metadata": {},
     "output_type": "execute_result"
    }
   ],
   "source": [
    "len(liz)"
   ]
  },
  {
   "cell_type": "code",
   "execution_count": 55,
   "id": "7c4eaea8",
   "metadata": {},
   "outputs": [
    {
     "name": "stdout",
     "output_type": "stream",
     "text": [
      "https://news.cnyes.com/news/id/4846709\n",
      "https://tw.stock.yahoo.com/news/大立光3月營收月增逾四成-惟客戶需求仍疲弱-估4月較3月差-234539129.html\n",
      "https://www.chinatimes.com/newspapers/20220406000092-260202\n",
      "https://udn.com/news/story/7240/6218903?from=udn-ch1_breaknews-1-cate6-news\n",
      "https://tw.stock.yahoo.com/news/公告-大立光召開法人說明會事宜-071530099.html\n",
      "https://finance.ettoday.net/news/2223163\n",
      "https://wantrich.chinatimes.com/news/20220406900300-420101\n",
      "https://finance.ettoday.net/news/2223144\n",
      "https://www.chinatimes.com/realtimenews/20220405001293-260410\n",
      "https://ec.ltn.com.tw/article/breakingnews/3882820\n",
      "https://tw.news.yahoo.com/大立光3月營收月增43-4月估低於3月-021821509.html\n",
      "https://udn.com/news/story/7240/6217162\n",
      "https://news.cnyes.com/news/id/4846709\n",
      "https://tw.stock.yahoo.com/news/大立光3月營收月增逾四成-惟客戶需求仍疲弱-估4月較3月差-234539129.html\n",
      "https://www.chinatimes.com/newspapers/20220406000092-260202\n",
      "https://udn.com/news/story/7240/6218903?from=udn-ch1_breaknews-1-cate6-news\n",
      "https://tw.stock.yahoo.com/news/公告-大立光召開法人說明會事宜-071530099.html\n",
      "https://finance.ettoday.net/news/2223163\n",
      "https://wantrich.chinatimes.com/news/20220406900300-420101\n",
      "https://finance.ettoday.net/news/2223144\n",
      "https://www.chinatimes.com/realtimenews/20220405001293-260410\n",
      "https://ec.ltn.com.tw/article/breakingnews/3882820\n",
      "https://tw.news.yahoo.com/大立光3月營收月增43-4月估低於3月-021821509.html\n",
      "https://udn.com/news/story/7240/6217162\n"
     ]
    }
   ],
   "source": [
    "#//*[@id=\"xjs\"]/table/tbody/tr/td[4]/a\n",
    "import urllib.parse\n",
    "import requests\n",
    "import wget\n",
    "for site in liz:\n",
    "    site = urllib.parse.unquote(site)\n",
    "    #wget.download(site)\n",
    "    print(site)\n",
    "    \n",
    "    "
   ]
  },
  {
   "cell_type": "code",
   "execution_count": 56,
   "id": "c9113b2b",
   "metadata": {},
   "outputs": [],
   "source": [
    "driver.quit()"
   ]
  },
  {
   "cell_type": "code",
   "execution_count": null,
   "id": "adfa7661",
   "metadata": {},
   "outputs": [],
   "source": []
  }
 ],
 "metadata": {
  "kernelspec": {
   "display_name": "Python 3 (ipykernel)",
   "language": "python",
   "name": "python3"
  },
  "language_info": {
   "codemirror_mode": {
    "name": "ipython",
    "version": 3
   },
   "file_extension": ".py",
   "mimetype": "text/x-python",
   "name": "python",
   "nbconvert_exporter": "python",
   "pygments_lexer": "ipython3",
   "version": "3.9.12"
  }
 },
 "nbformat": 4,
 "nbformat_minor": 5
}
