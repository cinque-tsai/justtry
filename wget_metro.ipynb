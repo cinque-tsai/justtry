{
 "cells": [
  {
   "cell_type": "code",
   "execution_count": 1,
   "metadata": {},
   "outputs": [],
   "source": [
    "import pandas as pd\n",
    "import wget\n",
    "import urllib.parse"
   ]
  },
  {
   "cell_type": "code",
   "execution_count": 2,
   "metadata": {},
   "outputs": [
    {
     "data": {
      "text/html": [
       "<div>\n",
       "<style scoped>\n",
       "    .dataframe tbody tr th:only-of-type {\n",
       "        vertical-align: middle;\n",
       "    }\n",
       "\n",
       "    .dataframe tbody tr th {\n",
       "        vertical-align: top;\n",
       "    }\n",
       "\n",
       "    .dataframe thead th {\n",
       "        text-align: right;\n",
       "    }\n",
       "</style>\n",
       "<table border=\"1\" class=\"dataframe\">\n",
       "  <thead>\n",
       "    <tr style=\"text-align: right;\">\n",
       "      <th></th>\n",
       "      <th>檔案名稱</th>\n",
       "      <th>資料路徑</th>\n",
       "    </tr>\n",
       "  </thead>\n",
       "  <tbody>\n",
       "    <tr>\n",
       "      <th>0</th>\n",
       "      <td>臺北捷運各站進站量統計_201501</td>\n",
       "      <td>http://tcgmetro.blob.core.windows.net/stationo...</td>\n",
       "    </tr>\n",
       "    <tr>\n",
       "      <th>1</th>\n",
       "      <td>臺北捷運各站進站量統計_201502</td>\n",
       "      <td>http://tcgmetro.blob.core.windows.net/stationo...</td>\n",
       "    </tr>\n",
       "    <tr>\n",
       "      <th>2</th>\n",
       "      <td>臺北捷運各站進站量統計_201503</td>\n",
       "      <td>http://tcgmetro.blob.core.windows.net/stationo...</td>\n",
       "    </tr>\n",
       "    <tr>\n",
       "      <th>3</th>\n",
       "      <td>臺北捷運各站進站量統計_201504</td>\n",
       "      <td>http://tcgmetro.blob.core.windows.net/stationo...</td>\n",
       "    </tr>\n",
       "    <tr>\n",
       "      <th>4</th>\n",
       "      <td>臺北捷運各站進站量統計_201505</td>\n",
       "      <td>http://tcgmetro.blob.core.windows.net/stationo...</td>\n",
       "    </tr>\n",
       "    <tr>\n",
       "      <th>...</th>\n",
       "      <td>...</td>\n",
       "      <td>...</td>\n",
       "    </tr>\n",
       "    <tr>\n",
       "      <th>71</th>\n",
       "      <td>臺北捷運各站分時出站量統計_201608</td>\n",
       "      <td>http://tcgmetro.blob.core.windows.net/stationo...</td>\n",
       "    </tr>\n",
       "    <tr>\n",
       "      <th>72</th>\n",
       "      <td>臺北捷運各站分時出站量統計_201609</td>\n",
       "      <td>http://tcgmetro.blob.core.windows.net/stationo...</td>\n",
       "    </tr>\n",
       "    <tr>\n",
       "      <th>73</th>\n",
       "      <td>臺北捷運各站分時出站量統計_201610</td>\n",
       "      <td>http://tcgmetro.blob.core.windows.net/stationo...</td>\n",
       "    </tr>\n",
       "    <tr>\n",
       "      <th>74</th>\n",
       "      <td>臺北捷運各站分時出站量統計_201611</td>\n",
       "      <td>http://tcgmetro.blob.core.windows.net/stationo...</td>\n",
       "    </tr>\n",
       "    <tr>\n",
       "      <th>75</th>\n",
       "      <td>臺北捷運各站分時出站量統計_201612</td>\n",
       "      <td>http://tcgmetro.blob.core.windows.net/stationo...</td>\n",
       "    </tr>\n",
       "  </tbody>\n",
       "</table>\n",
       "<p>76 rows × 2 columns</p>\n",
       "</div>"
      ],
      "text/plain": [
       "                    檔案名稱                                               資料路徑\n",
       "0     臺北捷運各站進站量統計_201501  http://tcgmetro.blob.core.windows.net/stationo...\n",
       "1     臺北捷運各站進站量統計_201502  http://tcgmetro.blob.core.windows.net/stationo...\n",
       "2     臺北捷運各站進站量統計_201503  http://tcgmetro.blob.core.windows.net/stationo...\n",
       "3     臺北捷運各站進站量統計_201504  http://tcgmetro.blob.core.windows.net/stationo...\n",
       "4     臺北捷運各站進站量統計_201505  http://tcgmetro.blob.core.windows.net/stationo...\n",
       "..                   ...                                                ...\n",
       "71  臺北捷運各站分時出站量統計_201608  http://tcgmetro.blob.core.windows.net/stationo...\n",
       "72  臺北捷運各站分時出站量統計_201609  http://tcgmetro.blob.core.windows.net/stationo...\n",
       "73  臺北捷運各站分時出站量統計_201610  http://tcgmetro.blob.core.windows.net/stationo...\n",
       "74  臺北捷運各站分時出站量統計_201611  http://tcgmetro.blob.core.windows.net/stationo...\n",
       "75  臺北捷運各站分時出站量統計_201612  http://tcgmetro.blob.core.windows.net/stationo...\n",
       "\n",
       "[76 rows x 2 columns]"
      ]
     },
     "execution_count": 2,
     "metadata": {},
     "output_type": "execute_result"
    }
   ],
   "source": [
    "df = pd.read_csv(\"臺北捷運各站進出量統計.csv\")\n",
    "df"
   ]
  },
  {
   "cell_type": "code",
   "execution_count": 3,
   "metadata": {},
   "outputs": [
    {
     "data": {
      "text/plain": [
       "pandas.core.series.Series"
      ]
     },
     "execution_count": 3,
     "metadata": {},
     "output_type": "execute_result"
    }
   ],
   "source": [
    "liz = df[\"資料路徑\"]\n",
    "type(liz)"
   ]
  },
  {
   "cell_type": "code",
   "execution_count": 4,
   "metadata": {},
   "outputs": [],
   "source": [
    "for pig in liz:\n",
    "    #print(pig)\n",
    "    #print(type(pig) )\n",
    "    pig = urllib.parse.unquote(pig)\n",
    "    wget.download(pig)"
   ]
  },
  {
   "cell_type": "code",
   "execution_count": null,
   "metadata": {},
   "outputs": [],
   "source": []
  }
 ],
 "metadata": {
  "interpreter": {
   "hash": "38d51dd8e8d25c2b4859ddf5fde4d8615b38902fd48d30a19bf46ddb81d406a6"
  },
  "kernelspec": {
   "display_name": "Python 3.9.11 64-bit (windows store)",
   "language": "python",
   "name": "python3"
  },
  "language_info": {
   "codemirror_mode": {
    "name": "ipython",
    "version": 3
   },
   "file_extension": ".py",
   "mimetype": "text/x-python",
   "name": "python",
   "nbconvert_exporter": "python",
   "pygments_lexer": "ipython3",
   "version": "3.9.11"
  },
  "orig_nbformat": 4
 },
 "nbformat": 4,
 "nbformat_minor": 2
}
