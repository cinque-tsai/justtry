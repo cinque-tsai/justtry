{
 "cells": [
  {
   "cell_type": "code",
   "execution_count": 3,
   "metadata": {},
   "outputs": [],
   "source": [
    "#Use gmap to find the missing locations\n",
    "import pandas as pd\n",
    "import os\n",
    "import csv\n",
    "import pandas as pd\n",
    "from math import radians, cos, sin ,tan\n",
    "import time\n",
    "import random\n",
    "from selenium import webdriver\n",
    "from selenium.webdriver.chrome.options import Options\n",
    "from selenium.webdriver.common.keys import Keys \n",
    "from selenium.webdriver.support.ui import WebDriverWait \n",
    "from selenium.webdriver.support import expected_conditions as EC\n",
    "from selenium.webdriver.common.by import By\n",
    "from bs4 import BeautifulSoup\n",
    "import csv\n",
    "import numpy as np\n",
    "from urllib import parse"
   ]
  },
  {
   "cell_type": "code",
   "execution_count": 4,
   "metadata": {},
   "outputs": [
    {
     "name": "stderr",
     "output_type": "stream",
     "text": [
      "[WDM] - Downloading: 100%|██████████| 6.46M/6.46M [00:00<00:00, 30.6MB/s]\n",
      "C:\\Users\\user\\AppData\\Local\\Temp/ipykernel_15772/4089053854.py:2: DeprecationWarning: executable_path has been deprecated, please pass in a Service object\n",
      "  browser = webdriver.Chrome(ChromeDriverManager().install())\n"
     ]
    }
   ],
   "source": [
    "#initialise webdriver\n",
    "from webdriver_manager.chrome import ChromeDriverManager\n",
    "browser = webdriver.Chrome(ChromeDriverManager().install())\n",
    "#If your webdriver matches browser's version, then skip this step and call the driver directly."
   ]
  },
  {
   "cell_type": "code",
   "execution_count": 5,
   "metadata": {},
   "outputs": [],
   "source": [
    "#from https://tylerastro.medium.com/twd97-to-longitude-latitude-dde820d83405\n",
    "#transform coordination into Taiwanese system\n",
    "def lonlat_to_97( lon,lat):\n",
    "    \"\"\"\n",
    "    It transforms longitude, latitude to TWD97 system.\n",
    "\n",
    "    Parameters\n",
    "    ----------\n",
    "    lon : float\n",
    "        longitude in degrees\n",
    "    lat : float\n",
    "        latitude in degrees \n",
    "\n",
    "    Returns\n",
    "    -------\n",
    "    x, y [TWD97]\n",
    "    \"\"\"\n",
    "    \n",
    "    lat = radians(lat)\n",
    "    lon = radians(lon)\n",
    "    \n",
    "    a = 6378137.0\n",
    "    b = 6356752.314245\n",
    "    long0 = radians(121)\n",
    "    k0 = 0.9999\n",
    "    dx = 250000\n",
    "\n",
    "    e = (1-b**2/a**2)**0.5\n",
    "    e2 = e**2/(1-e**2)\n",
    "    n = (a-b)/(a+b)\n",
    "    nu = a/(1-(e**2)*(sin(lat)**2))**0.5\n",
    "    p = lon-long0\n",
    "\n",
    "    A = a*(1 - n + (5/4.0)*(n**2 - n**3) + (81/64.0)*(n**4  - n**5))\n",
    "    B = (3*a*n/2.0)*(1 - n + (7/8.0)*(n**2 - n**3) + (55/64.0)*(n**4 - n**5))\n",
    "    C = (15*a*(n**2)/16.0)*(1 - n + (3/4.0)*(n**2 - n**3))\n",
    "    D = (35*a*(n**3)/48.0)*(1 - n + (11/16.0)*(n**2 - n**3))\n",
    "    E = (315*a*(n**4)/51.0)*(1 - n)\n",
    "\n",
    "    S = A*lat - B*sin(2*lat) + C*sin(4*lat) - D*sin(6*lat) + E*sin(8*lat)\n",
    "\n",
    "    K1 = S*k0\n",
    "    K2 = k0*nu*sin(2*lat)/4.0\n",
    "    K3 = (k0*nu*sin(lat)*(cos(lat)**3)/24.0) * (5 - tan(lat)**2 + 9*e2*(cos(lat)**2) + 4*(e2**2)*(cos(lat)**4))\n",
    "\n",
    "    y_97 = K1 + K2*(p**2) + K3*(p**4)\n",
    "\n",
    "    K4 = k0*nu*cos(lat)\n",
    "    K5 = (k0*nu*(cos(lat)**3)/6.0) * (1 - tan(lat)**2 + e2*(cos(lat)**2))\n",
    "\n",
    "    x_97 = K4*p + K5*(p**3) + dx\n",
    "    return x_97, y_97"
   ]
  },
  {
   "cell_type": "code",
   "execution_count": 47,
   "metadata": {},
   "outputs": [
    {
     "data": {
      "text/plain": [
       "(162615.35860108832, 2550191.1858210866)"
      ]
     },
     "execution_count": 47,
     "metadata": {},
     "output_type": "execute_result"
    }
   ],
   "source": [
    "#try\n",
    "lonlat_to_97(120.14727,23.0510545102663)"
   ]
  },
  {
   "cell_type": "code",
   "execution_count": 34,
   "metadata": {},
   "outputs": [],
   "source": [
    "'''\n",
    "This code will put address into google map. \n",
    "The result shall be their coordination.\n",
    "Though my best effort, there could be address errors that need to be corrected manually.\n",
    "User has to open the driver first and run this code at google map.\n",
    "It will send addresses into the map and read the coordination from url.\n",
    "The addresses from gmap can be name of the store or schools instead of the real address.\n",
    "'''\n",
    "def addgmap(inaddress):\n",
    "    cuurl = browser.current_url\n",
    "    qry = browser.find_element_by_id(\"searchboxinput\")\n",
    "    qry.clear()\n",
    "    qry.send_keys(inaddress)\n",
    "    element = browser.find_element_by_id(\"searchbox-searchbutton\") \n",
    "    element.click()\n",
    "    time.sleep(7)\n",
    "    url = browser.current_url\n",
    "    if \"/search/\" in url:\n",
    "        return np.nan,np.nan,np.nan,np.nan\n",
    "    url1 = \"0\"\n",
    "    if '!3d' in url:\n",
    "        url1 = url.split('!3d')[1]\n",
    "    address = ''\n",
    "    address = url.split('place/')[1].split('/@')[0]\n",
    "    address = parse.unquote(address)\n",
    "    y,x =  0,0\n",
    "    if url1 != \"0\":\n",
    "        y,x = url1.split('!4d')[0],url1.split('!4d')[1][0:9]\n",
    "    \n",
    "    return url,x,y,address"
   ]
  },
  {
   "cell_type": "code",
   "execution_count": 134,
   "metadata": {},
   "outputs": [
    {
     "name": "stderr",
     "output_type": "stream",
     "text": [
      "C:\\Users\\user\\AppData\\Local\\Temp/ipykernel_15772/596618866.py:15: DeprecationWarning: find_element_by_* commands are deprecated. Please use find_element() instead\n",
      "  qry = browser.find_element_by_id(\"searchboxinput\")\n",
      "C:\\Users\\user\\AppData\\Local\\Temp/ipykernel_15772/596618866.py:19: DeprecationWarning: find_element_by_* commands are deprecated. Please use find_element() instead\n",
      "  element = browser.find_element_by_id(\"searchbox-searchbutton\")\n"
     ]
    },
    {
     "name": "stdout",
     "output_type": "stream",
     "text": [
      "282930.2647536799 2764352.558596563\n"
     ]
    }
   ],
   "source": [
    "#manual trial\n",
    "url, x,y, address = addgmap('桃園市龜山區山鶯路200號')\n",
    "x,y = float(x),float(y)\n",
    "x,y = lonlat_to_97(x,y)\n",
    "print(x,y)"
   ]
  },
  {
   "cell_type": "code",
   "execution_count": null,
   "metadata": {},
   "outputs": [],
   "source": [
    "#set the driver and import missing list\n",
    "browser.get(\"https://www.google.com.tw/maps/\")\n",
    "df1 = pd.read_csv('add_missing_utf8.csv')\n",
    "df1[\"Address\"] = df1[\"Address\"].str.split('號').str[0]+'號'#df1.Response_Address.isna()\n",
    "df1[:20]"
   ]
  },
  {
   "cell_type": "code",
   "execution_count": 44,
   "metadata": {},
   "outputs": [
    {
     "name": "stdout",
     "output_type": "stream",
     "text": [
      "290 nan\n"
     ]
    },
    {
     "name": "stderr",
     "output_type": "stream",
     "text": [
      "C:\\Users\\user\\AppData\\Local\\Temp/ipykernel_15772/596618866.py:15: DeprecationWarning: find_element_by_* commands are deprecated. Please use find_element() instead\n",
      "  qry = browser.find_element_by_id(\"searchboxinput\")\n",
      "C:\\Users\\user\\AppData\\Local\\Temp/ipykernel_15772/596618866.py:19: DeprecationWarning: find_element_by_* commands are deprecated. Please use find_element() instead\n",
      "  element = browser.find_element_by_id(\"searchbox-searchbutton\")\n"
     ]
    },
    {
     "name": "stdout",
     "output_type": "stream",
     "text": [
      "291 nan\n",
      "292 nan\n",
      "293 nan\n",
      "294 nan\n",
      "295 nan\n",
      "296 nan\n",
      "297 nan\n",
      "298 nan\n",
      "299 nan\n",
      "300 nan\n",
      "301 nan\n",
      "302 nan\n",
      "303 nan\n",
      "304 nan\n",
      "305 nan\n",
      "306 nan\n",
      "307 nan\n",
      "308 nan\n",
      "309 nan\n",
      "310 nan\n",
      "311 nan\n",
      "312 nan\n",
      "313 nan\n",
      "314 nan\n",
      "315 nan\n",
      "316 nan\n",
      "317 nan\n",
      "318 nan\n",
      "319 nan\n",
      "320 nan\n",
      "321 nan\n",
      "322 nan\n",
      "323 nan\n",
      "324 nan\n",
      "325 nan\n",
      "326 nan\n",
      "327 nan\n",
      "328 nan\n",
      "329 nan\n",
      "330 nan\n",
      "331 nan\n",
      "332 nan\n",
      "333 nan\n",
      "334 nan\n",
      "335 nan\n",
      "336 nan\n",
      "337 nan\n",
      "338 nan\n",
      "339 nan\n",
      "340 nan\n",
      "341 nan\n",
      "342 nan\n",
      "343 nan\n",
      "344 nan\n",
      "345 nan\n",
      "346 nan\n",
      "347 nan\n",
      "348 nan\n",
      "349 nan\n",
      "350 nan\n",
      "351 nan\n",
      "352 nan\n",
      "353 nan\n",
      "354 nan\n",
      "355 nan\n",
      "356 nan\n",
      "357 nan\n",
      "358 nan\n",
      "359 nan\n",
      "360 nan\n",
      "361 nan\n",
      "362 nan\n",
      "363 nan\n",
      "364 nan\n",
      "365 nan\n",
      "366 nan\n",
      "367 nan\n",
      "368 nan\n",
      "369 nan\n",
      "370 nan\n",
      "371 nan\n",
      "372 nan\n",
      "373 nan\n",
      "374 nan\n",
      "375 nan\n",
      "376 nan\n",
      "377 nan\n",
      "378 nan\n",
      "379 nan\n",
      "380 nan\n",
      "381 nan\n",
      "382 nan\n",
      "383 nan\n",
      "384 nan\n",
      "385 nan\n",
      "386 nan\n",
      "387 nan\n",
      "388 nan\n",
      "389 nan\n",
      "390 nan\n",
      "391 nan\n",
      "392 nan\n",
      "393 nan\n",
      "394 nan\n",
      "395 nan\n",
      "396 nan\n",
      "397 nan\n",
      "398 nan\n",
      "399 nan\n",
      "400 nan\n",
      "401 nan\n",
      "402 nan\n",
      "403 nan\n",
      "404 nan\n",
      "405 nan\n",
      "406 nan\n",
      "407 nan\n",
      "408 nan\n",
      "409 nan\n",
      "410 nan\n",
      "411 nan\n",
      "412 nan\n",
      "413 nan\n",
      "414 nan\n",
      "415 nan\n",
      "416 nan\n",
      "417 nan\n",
      "418 nan\n",
      "419 nan\n",
      "420 nan\n",
      "421 nan\n",
      "422 nan\n",
      "423 nan\n",
      "424 nan\n",
      "425 nan\n",
      "426 nan\n",
      "427 nan\n",
      "428 nan\n",
      "429 nan\n",
      "430 nan\n",
      "431 nan\n",
      "432 nan\n",
      "433 nan\n",
      "434 nan\n",
      "435 nan\n",
      "436 nan\n",
      "437 nan\n",
      "438 nan\n",
      "439 nan\n",
      "440 nan\n",
      "441 nan\n",
      "442 nan\n",
      "443 nan\n",
      "444 nan\n",
      "445 nan\n",
      "446 nan\n"
     ]
    }
   ],
   "source": [
    "#If it crash, skip crashed one and start again from the next entry of the one failed.\n",
    "for i in range(len(df1)):\n",
    "    print(i,df1.loc[i,\"Response_X\"])\n",
    "    time.sleep(5*random.random())\n",
    "    url, x,y, address = addgmap(df1.loc[i,\"Address\"])\n",
    "    x,y = float(x),float(y)\n",
    "    x,y = lonlat_to_97(x,y)\n",
    "    df1.loc[i,\"Response_X\"], df1.loc[i,\"Response_Y\"] = x,y\n",
    "    df1.loc[i,\"Response_Address\"] = address\n",
    "    "
   ]
  },
  {
   "cell_type": "code",
   "execution_count": 53,
   "metadata": {},
   "outputs": [],
   "source": [
    "#export the file, but still have to manually adjust it.\n",
    "df1.to_csv(\"gmap_missing.csv\")"
   ]
  }
 ],
 "metadata": {
  "kernelspec": {
   "display_name": "Python 3.9.13 64-bit (microsoft store)",
   "language": "python",
   "name": "python3"
  },
  "language_info": {
   "codemirror_mode": {
    "name": "ipython",
    "version": 3
   },
   "file_extension": ".py",
   "mimetype": "text/x-python",
   "name": "python",
   "nbconvert_exporter": "python",
   "pygments_lexer": "ipython3",
   "version": "3.9.13"
  },
  "orig_nbformat": 4,
  "vscode": {
   "interpreter": {
    "hash": "c0c1347e409a30be510c4547786e1cb269a4662e725ca84767e9ca7ae160a69d"
   }
  }
 },
 "nbformat": 4,
 "nbformat_minor": 2
}
